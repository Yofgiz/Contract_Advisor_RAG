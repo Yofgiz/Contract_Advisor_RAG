{
 "cells": [
  {
   "cell_type": "code",
   "execution_count": 1,
   "metadata": {},
   "outputs": [],
   "source": [
    "from langchain_community.document_loaders import PyPDFLoader\n",
    "\n",
    "loader = PyPDFLoader('../data/Raptor Contract.docx.pdf')\n",
    "pages = loader.load_and_split()"
   ]
  },
  {
   "cell_type": "code",
   "execution_count": 2,
   "metadata": {},
   "outputs": [
    {
     "data": {
      "text/plain": [
       "76"
      ]
     },
     "execution_count": 2,
     "metadata": {},
     "output_type": "execute_result"
    }
   ],
   "source": [
    "len(pages)"
   ]
  },
  {
   "cell_type": "code",
   "execution_count": 3,
   "metadata": {},
   "outputs": [
    {
     "data": {
      "text/plain": [
       "(225087, 76)"
      ]
     },
     "execution_count": 3,
     "metadata": {},
     "output_type": "execute_result"
    }
   ],
   "source": [
    "length = 0\n",
    "count = 0\n",
    "for page in pages:\n",
    "    length += len(page.page_content)\n",
    "    count += 1\n",
    "\n",
    "length, count"
   ]
  },
  {
   "cell_type": "code",
   "execution_count": 4,
   "metadata": {},
   "outputs": [],
   "source": [
    "from langchain.document_loaders import TextLoader\n",
    "from langchain.text_splitter import CharacterTextSplitter, TokenTextSplitter\n",
    "\n",
    "CHUNK_SIZE = 300\n",
    "CHUNK_OVERLAP = 30\n",
    "\n",
    "text_splitter = CharacterTextSplitter(chunk_size = CHUNK_SIZE, chunk_overlap=CHUNK_OVERLAP)\n",
    "docs = text_splitter.split_documents(pages)"
   ]
  },
  {
   "cell_type": "code",
   "execution_count": 5,
   "metadata": {},
   "outputs": [
    {
     "name": "stdout",
     "output_type": "stream",
     "text": [
      "801\n"
     ]
    }
   ],
   "source": [
    "print(len(docs[0].page_content))"
   ]
  },
  {
   "cell_type": "code",
   "execution_count": 6,
   "metadata": {},
   "outputs": [
    {
     "name": "stderr",
     "output_type": "stream",
     "text": [
      "/home/misge/miniconda3/envs/wk-11/lib/python3.12/site-packages/langchain_core/_api/deprecation.py:117: LangChainDeprecationWarning: The class `langchain_community.embeddings.openai.OpenAIEmbeddings` was deprecated in langchain-community 0.1.0 and will be removed in 0.2.0. An updated version of the class exists in the langchain-openai package and should be used instead. To use it run `pip install -U langchain-openai` and import as `from langchain_openai import OpenAIEmbeddings`.\n",
      "  warn_deprecated(\n"
     ]
    }
   ],
   "source": [
    "import os\n",
    "from dotenv import load_dotenv\n",
    "\n",
    "load_dotenv()\n",
    "OPENAI_API_KEY = os.environ.get('OPENAI_API_KEY')\n",
    "\n",
    "from langchain.embeddings import OpenAIEmbeddings\n",
    "from langchain.vectorstores import Qdrant\n",
    "\n",
    "embeddings = OpenAIEmbeddings(model='text-embedding-ada-002')\n",
    "\n",
    "qdrant = Qdrant.from_documents(\n",
    "    docs, \n",
    "    embeddings,\n",
    "    path='local_qdrant',\n",
    "    collection_name=\"contract_documents\",\n",
    "    force_recreate=True,\n",
    ")"
   ]
  },
  {
   "cell_type": "code",
   "execution_count": 11,
   "metadata": {},
   "outputs": [
    {
     "name": "stdout",
     "output_type": "stream",
     "text": [
      "any\n",
      "Seller .\n",
      "Without\n",
      "limiting\n",
      "the\n",
      "generality\n",
      "of\n",
      "the\n",
      "foregoing,\n",
      "the\n",
      "Sellers’\n",
      "Representative\n",
      "is\n",
      "hereby \n",
      "authorized,\n",
      "on\n",
      "behalf\n",
      "of\n",
      "the\n",
      "Sellers,\n",
      "to:\n",
      "(i)\n",
      "in\n",
      "connection\n",
      "with\n",
      "the\n",
      "Closing,\n",
      "execute\n",
      "and\n",
      "receive\n",
      "all\n",
      "documents,\n",
      "instruments, \n",
      "certificates,\n",
      "statements\n",
      "and\n",
      "agreements\n",
      "on\n",
      "behalf\n",
      "of\n",
      "and\n",
      "in\n",
      "the\n",
      "name\n",
      "of\n",
      "each\n",
      "Seller\n",
      "necessary\n",
      "to \n",
      "effectuate\n",
      "the\n",
      "Closing\n",
      "and\n",
      "consummate\n",
      "the\n",
      "Contemplated\n",
      "Transactions;\n",
      "(ii)\n",
      "receive\n",
      "and\n",
      "give\n",
      "all\n",
      "notices\n",
      "and\n",
      "service\n",
      "of\n",
      "process,\n",
      "make\n",
      "all\n",
      "filings,\n",
      "enter\n",
      "into\n",
      "all \n",
      "Contractual\n",
      "Obligations,\n",
      "make\n",
      "all\n",
      "decisions,\n",
      "bring,\n",
      "prosecute,\n",
      "defend,\n",
      "settle,\n",
      "compromise\n",
      "or \n",
      "otherwise\n",
      "resolve\n",
      "all\n",
      "claims,\n",
      "disputes\n",
      "and\n",
      "Actions,\n",
      "authorize\n",
      "payments\n",
      "in\n",
      "respect\n",
      "of\n",
      "any\n",
      "such \n",
      "claims,\n",
      "disputes\n",
      "or\n",
      "Actions,\n",
      "and\n",
      "take\n",
      "all\n",
      "other\n",
      "actions,\n",
      "in\n",
      "each\n",
      "case,\n",
      "with\n",
      "respect\n",
      "to\n",
      "the\n",
      "matters \n",
      "set\n",
      "forth\n",
      "in\n",
      "Section\n",
      "2.06\n",
      ",\n",
      "Article\n",
      "VII\n",
      ",\n",
      "Article\n",
      "VIII\n",
      "or\n",
      "any\n",
      "other\n",
      "Actions\n",
      "directly\n",
      "or\n",
      "indirectly \n",
      "arising\n",
      "out\n",
      "of\n",
      "or\n",
      "relating\n",
      "to\n",
      "this\n",
      "Agreement,\n",
      "the\n",
      "Escrow\n",
      "Agreement\n",
      "or\n",
      "the\n",
      "Contemplated \n",
      "Transactions;\n",
      "(iii)\n",
      "receive\n",
      "and\n",
      "give\n",
      "all\n",
      "notices,\n",
      "make\n",
      "all\n",
      "decisions\n",
      "and\n",
      "take\n",
      "all\n",
      "other\n",
      "actions\n",
      "on \n",
      "behalf\n",
      "of\n",
      "the\n",
      "Sellers\n",
      "in\n",
      "connection\n",
      "with\n",
      "the\n",
      "escrow\n",
      "account\n",
      "established\n",
      "pursuant\n",
      "to\n",
      "the\n",
      "Escrow \n",
      "Agreement,\n",
      "including\n",
      "giving\n",
      "any\n",
      "instructions\n",
      "or\n",
      "authorizations\n",
      "to\n",
      "the\n",
      "Escrow\n",
      "Agent\n",
      "to\n",
      "pay\n",
      "from \n",
      "such\n",
      "escrow\n",
      "account\n",
      "any\n",
      "amounts\n",
      "owed\n",
      "by\n",
      "the\n",
      "Sellers\n",
      "pursuant\n",
      "to\n",
      "this\n",
      "Agreement\n",
      "or\n",
      "the\n",
      "Escrow \n",
      "Agreement\n",
      "or\n",
      "otherwise\n",
      "in\n",
      "connection\n",
      "with\n",
      "the\n",
      "Contemplated\n",
      "Transactions;\n",
      "(iv)\n",
      "execute\n",
      "and\n",
      "deliver ,\n",
      "should\n",
      "it\n",
      "elect\n",
      "to\n",
      "do\n",
      "so\n",
      "in\n",
      "its\n",
      "good\n",
      "faith\n",
      "discretion,\n",
      "on\n",
      "behalf \n",
      "of\n",
      "the\n",
      "Sellers,\n",
      "any\n",
      "amendment\n",
      "to,\n",
      "or\n",
      "waiver\n",
      "of,\n",
      "any\n",
      "term\n",
      "or\n",
      "provision\n",
      "of\n",
      "this\n",
      "Agreement\n",
      "or\n",
      "the \n",
      "Escrow\n",
      "Agreement,\n",
      "or\n",
      "any\n",
      "consent,\n",
      "acknowledgment\n",
      "or\n",
      "release\n",
      "relating\n",
      "to\n",
      "this\n",
      "Agreement\n",
      "or\n",
      "the \n",
      "Escrow\n",
      "Agreement;\n",
      "and\n",
      "(v)\n",
      "take\n",
      "all\n",
      "other\n",
      "actions\n",
      "permitted\n",
      "or\n",
      "required\n",
      "to\n",
      "be\n",
      "taken\n",
      "by\n",
      "or\n",
      "on\n",
      "behalf\n",
      "of\n",
      "the \n",
      "Sellers\n",
      "under\n",
      "this\n",
      "Agreement\n",
      "or\n",
      "the\n",
      "Escrow\n",
      "Agreement\n",
      "and\n",
      "exercise\n",
      "any\n",
      "and\n",
      "all\n",
      "rights\n",
      "that\n",
      "the \n",
      "Sellers\n",
      "or\n",
      "the\n",
      "Sellers’\n",
      "Representative\n",
      "are\n",
      "permitted\n",
      "or\n",
      "required\n",
      "to\n",
      "do\n",
      "or\n",
      "exercise\n",
      "under\n",
      "this \n",
      "Agreement\n",
      "or\n",
      "the\n",
      "Escrow\n",
      "Agreement.\n",
      "(d)\n",
      "Liability\n",
      ".\n",
      "The\n",
      "Sellers’\n",
      "Representative\n",
      "shall\n",
      "not\n",
      "be\n",
      "held\n",
      "liable\n",
      "by\n",
      "any\n",
      "of\n",
      "the \n",
      "Sellers\n",
      "for\n",
      "actions\n",
      "or\n",
      "omissions\n",
      "in\n",
      "exercising\n",
      "or\n",
      "failing\n",
      "to\n",
      "exercise\n",
      "all\n",
      "or\n",
      "any\n",
      "of\n",
      "the\n",
      "power\n",
      "and \n",
      "authority\n",
      "of\n",
      "the\n",
      "Sellers’\n",
      "Representative\n",
      "pursuant\n",
      "to\n",
      "this\n",
      "Agreement,\n",
      "except\n",
      "in\n",
      "the\n",
      "case\n",
      "of\n",
      "the \n",
      "Sellers’\n",
      "Representative’ s\n",
      "gross\n",
      "negligence,\n",
      "bad\n",
      "faith\n",
      "or\n",
      "willful\n",
      "misconduct.\n",
      "The\n",
      "Sellers’ \n",
      "Representative\n",
      "shall\n",
      "be\n",
      "entitled\n",
      "to\n",
      "rely\n",
      "on\n",
      "the\n",
      "advice\n",
      "of\n",
      "counsel,\n",
      "public\n",
      "accountants\n",
      "or\n",
      "other \n",
      "independent\n",
      "experts\n",
      "that\n",
      "it\n",
      "reasonably\n",
      "determines\n",
      "to\n",
      "be\n",
      "experienced\n",
      "in\n",
      "the\n",
      "matter\n",
      "at\n",
      "issue,\n",
      "and \n",
      "will\n",
      "not\n",
      "be\n",
      "liable\n",
      "to\n",
      "any\n",
      "Seller\n",
      "for\n",
      "any\n",
      "action\n",
      "taken\n",
      "or\n",
      "omitted\n",
      "to\n",
      "be\n",
      "taken\n",
      "in\n",
      "good\n",
      "faith\n",
      "based\n",
      "on \n",
      "such\n",
      "advice.\n",
      "Each\n",
      "Seller\n",
      "will\n",
      "severally\n",
      "(and\n",
      "not\n",
      "jointly)\n",
      "indemnify\n",
      "(in\n",
      "accordance\n",
      "with\n",
      "its\n",
      "Pro \n",
      "Rata\n",
      "Percentage)\n",
      "the\n",
      "Sellers’\n",
      "Representative\n",
      "from\n",
      "any\n",
      "Losses\n",
      "arising\n",
      "out\n",
      "of\n",
      "its\n",
      "serving\n",
      "as\n",
      "the \n",
      "Sellers’\n",
      "Representative\n",
      "hereunder ,\n",
      "except\n",
      "for\n",
      "Losses\n",
      "arising\n",
      "out\n",
      "of\n",
      "or\n",
      "caused\n",
      "by\n",
      "the\n",
      "Sellers’ \n",
      "Representative’ s\n",
      "gross\n",
      "negligence,\n",
      "bad\n",
      "faith\n",
      "or\n",
      "willful\n",
      "misconduct.\n",
      "The\n",
      "Sellers’\n",
      "Representative \n",
      "is\n",
      "serving\n",
      "in\n",
      "its\n",
      "capacity\n",
      "as\n",
      "such\n",
      "solely\n",
      "for\n",
      "purposes\n",
      "of\n",
      "administrative\n",
      "convenience,\n",
      "and\n",
      "is\n",
      "not \n",
      "personally\n",
      "liable\n",
      "in\n",
      "such\n",
      "capacity\n",
      "for\n",
      "any\n",
      "of\n",
      "the\n",
      "obligations\n",
      "of\n",
      "the\n",
      "Sellers\n",
      "hereunder ,\n",
      "and\n",
      "the \n",
      "Buyer\n",
      "agrees\n",
      "that\n",
      "it\n",
      "will\n",
      "not\n",
      "look\n",
      "to\n",
      "the\n",
      "personal\n",
      "assets\n",
      "of\n",
      "the\n",
      "Sellers’\n",
      "Representative,\n",
      "acting\n",
      "in \n",
      "such\n",
      "capacity ,\n",
      "for\n",
      "the\n",
      "satisfaction\n",
      "of\n",
      "any\n",
      "obligations\n",
      "to\n",
      "be\n",
      "performed\n",
      "by\n",
      "the\n",
      "Sellers\n",
      "hereunder .\n",
      "-\n",
      "62\n",
      "-\n",
      "112923184_5\n"
     ]
    }
   ],
   "source": [
    "query = 'Under what circumstances and to what extent the Sellers are responsible for a breach of representations and warranties?'\n",
    "\n",
    "found_docs = qdrant.similarity_search(query, k=2)\n",
    "\n",
    "print(found_docs[0].page_content)"
   ]
  },
  {
   "cell_type": "code",
   "execution_count": 12,
   "metadata": {},
   "outputs": [
    {
     "name": "stdout",
     "output_type": "stream",
     "text": [
      "3506\n"
     ]
    }
   ],
   "source": [
    "print(len(found_docs[0].page_content))"
   ]
  },
  {
   "cell_type": "markdown",
   "metadata": {},
   "source": [
    "### Generation"
   ]
  },
  {
   "cell_type": "markdown",
   "metadata": {},
   "source": [
    "### load_qa_chain\n"
   ]
  },
  {
   "cell_type": "code",
   "execution_count": 13,
   "metadata": {},
   "outputs": [
    {
     "name": "stderr",
     "output_type": "stream",
     "text": [
      "/home/misge/miniconda3/envs/wk-11/lib/python3.12/site-packages/langchain_community/llms/openai.py:1070: UserWarning: You are trying to use a chat model. This way of initializing it is no longer supported. Instead, please use: `from langchain_community.chat_models import ChatOpenAI`\n",
      "  warnings.warn(\n"
     ]
    }
   ],
   "source": [
    "from langchain.chains.question_answering import load_qa_chain\n",
    "from langchain.llms import OpenAIChat\n",
    "\n",
    "chain = load_qa_chain(OpenAIChat(temperature=0), chain_type='stuff')\n",
    "\n",
    "answer = chain.run(input_documents=found_docs, question=query)"
   ]
  },
  {
   "cell_type": "code",
   "execution_count": 14,
   "metadata": {},
   "outputs": [
    {
     "data": {
      "text/plain": [
       "'The Sellers are responsible for a breach of representations and warranties to the extent that they indemnify the Sellers’ Representative from any Losses arising out of its serving as the Sellers’ Representative, except for Losses arising out of or caused by the Sellers’ Representative’s gross negligence, bad faith, or willful misconduct. Each Seller will severally (and not jointly) indemnify the Sellers’ Representative from any Losses.'"
      ]
     },
     "execution_count": 14,
     "metadata": {},
     "output_type": "execute_result"
    }
   ],
   "source": [
    "answer"
   ]
  },
  {
   "cell_type": "markdown",
   "metadata": {},
   "source": [
    "#### load_qa_with_sources_chain"
   ]
  },
  {
   "cell_type": "code",
   "execution_count": 15,
   "metadata": {},
   "outputs": [
    {
     "name": "stderr",
     "output_type": "stream",
     "text": [
      "/home/misge/miniconda3/envs/wk-11/lib/python3.12/site-packages/langchain_community/llms/openai.py:1070: UserWarning: You are trying to use a chat model. This way of initializing it is no longer supported. Instead, please use: `from langchain_community.chat_models import ChatOpenAI`\n",
      "  warnings.warn(\n",
      "/home/misge/miniconda3/envs/wk-11/lib/python3.12/site-packages/langchain_core/_api/deprecation.py:117: LangChainDeprecationWarning: The function `__call__` was deprecated in LangChain 0.1.0 and will be removed in 0.2.0. Use invoke instead.\n",
      "  warn_deprecated(\n"
     ]
    }
   ],
   "source": [
    "from langchain.chains.qa_with_sources import load_qa_with_sources_chain\n",
    "\n",
    "chain = load_qa_with_sources_chain(OpenAIChat(temperature=0.2, model_name='gpt-3.5-turbo'), chain_type='stuff')\n",
    "\n",
    "answer = chain({'input_documents': found_docs, 'question': query}, return_only_outputs=True)"
   ]
  },
  {
   "cell_type": "code",
   "execution_count": 20,
   "metadata": {},
   "outputs": [
    {
     "data": {
      "text/plain": [
       "{'answer': \"The Sellers' Representative shall not be held liable by any of the Sellers for actions or omissions in exercising or failing to exercise all or any of the power and authority of the Sellers' Representative pursuant to this Agreement, except in the case of the Sellers' Representative's gross negligence, bad faith, or willful misconduct. Each Seller will severally (and not jointly) indemnify (in accordance with its Pro Rata Percentage) the Sellers' Representative from any Losses arising out of its serving as the Sellers' Representative hereunder, except for Losses arising out of or caused by the Sellers' Representative's gross negligence, bad faith, or willful misconduct. The Sellers' Representative is serving in its capacity as such solely for purposes of administrative convenience and is not personally liable in such capacity for any of the obligations of the Sellers hereunder. The Buyer agrees that it will not look to the personal assets of the Sellers' Representative, acting in such capacity, for the satisfaction of any obligations to be performed by the Sellers hereunder.\\n\",\n",
       " 'sources': '../data/Raptor Contract.docx.pdf'}"
      ]
     },
     "execution_count": 20,
     "metadata": {},
     "output_type": "execute_result"
    }
   ],
   "source": [
    "answer "
   ]
  },
  {
   "cell_type": "markdown",
   "metadata": {},
   "source": [
    "#### RetrieverQA"
   ]
  },
  {
   "cell_type": "code",
   "execution_count": 16,
   "metadata": {},
   "outputs": [
    {
     "name": "stderr",
     "output_type": "stream",
     "text": [
      "/home/misge/miniconda3/envs/wk-11/lib/python3.12/site-packages/langchain_community/llms/openai.py:1070: UserWarning: You are trying to use a chat model. This way of initializing it is no longer supported. Instead, please use: `from langchain_community.chat_models import ChatOpenAI`\n",
      "  warnings.warn(\n"
     ]
    }
   ],
   "source": [
    "from langchain.chains import RetrievalQA \n",
    "from langchain.chains import RetrievalQAWithSourcesChain \n",
    "\n",
    "qa = RetrievalQA.from_chain_type(llm=OpenAIChat(temperature=0.2, model_name='gpt-3.5-turbo'), chain_type='stuff', retriever=qdrant.as_retriever())\n",
    "\n",
    "answer = qa.run(query)"
   ]
  },
  {
   "cell_type": "code",
   "execution_count": 17,
   "metadata": {},
   "outputs": [
    {
     "data": {
      "text/plain": [
       "'The Sellers are responsible for a breach of representations and warranties to the extent that they indemnify the Sellers’ Representative from any Losses arising out of its service as the Sellers’ Representative, except for Losses arising out of or caused by the Sellers’ Representative’s gross negligence, bad faith, or willful misconduct. Each Seller will severally (and not jointly) indemnify the Sellers’ Representative in accordance with its Pro Rata Percentage.'"
      ]
     },
     "execution_count": 17,
     "metadata": {},
     "output_type": "execute_result"
    }
   ],
   "source": [
    "answer "
   ]
  },
  {
   "cell_type": "markdown",
   "metadata": {},
   "source": [
    "#### RetrieverQAWithSourcesChain"
   ]
  },
  {
   "cell_type": "code",
   "execution_count": 18,
   "metadata": {},
   "outputs": [
    {
     "name": "stderr",
     "output_type": "stream",
     "text": [
      "/home/misge/miniconda3/envs/wk-11/lib/python3.12/site-packages/langchain_community/llms/openai.py:1070: UserWarning: You are trying to use a chat model. This way of initializing it is no longer supported. Instead, please use: `from langchain_community.chat_models import ChatOpenAI`\n",
      "  warnings.warn(\n"
     ]
    }
   ],
   "source": [
    "chain = RetrievalQAWithSourcesChain.from_chain_type(OpenAIChat(temperature=0.2, model_name='gpt-3.5-turbo'), chain_type='stuff', retriever=qdrant.as_retriever())\n",
    "\n",
    "answer = chain({'question': query}, return_only_outputs=True)\n"
   ]
  },
  {
   "cell_type": "code",
   "execution_count": 19,
   "metadata": {},
   "outputs": [
    {
     "data": {
      "text/plain": [
       "{'answer': \"The Sellers' Representative shall not be held liable by any of the Sellers for actions or omissions in exercising or failing to exercise all or any of the power and authority of the Sellers' Representative pursuant to this Agreement, except in the case of the Sellers' Representative's gross negligence, bad faith, or willful misconduct. Each Seller will severally (and not jointly) indemnify (in accordance with its Pro Rata Percentage) the Sellers' Representative from any Losses arising out of its serving as the Sellers' Representative hereunder, except for Losses arising out of or caused by the Sellers' Representative's gross negligence, bad faith, or willful misconduct. The Sellers' Representative is serving in its capacity as such solely for purposes of administrative convenience and is not personally liable in such capacity for any of the obligations of the Sellers hereunder. The Buyer agrees that it will not look to the personal assets of the Sellers' Representative, acting in such capacity, for the satisfaction of any obligations to be performed by the Sellers hereunder.\\n\",\n",
       " 'sources': '../data/Raptor Contract.docx.pdf'}"
      ]
     },
     "execution_count": 19,
     "metadata": {},
     "output_type": "execute_result"
    }
   ],
   "source": [
    "answer"
   ]
  },
  {
   "cell_type": "code",
   "execution_count": null,
   "metadata": {},
   "outputs": [],
   "source": []
  }
 ],
 "metadata": {
  "kernelspec": {
   "display_name": "tenx",
   "language": "python",
   "name": "python3"
  },
  "language_info": {
   "codemirror_mode": {
    "name": "ipython",
    "version": 3
   },
   "file_extension": ".py",
   "mimetype": "text/x-python",
   "name": "python",
   "nbconvert_exporter": "python",
   "pygments_lexer": "ipython3",
   "version": "3.12.2"
  }
 },
 "nbformat": 4,
 "nbformat_minor": 2
}
